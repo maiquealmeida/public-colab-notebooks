{
  "nbformat": 4,
  "nbformat_minor": 0,
  "metadata": {
    "colab": {
      "provenance": [],
      "gpuType": "T4"
    },
    "kernelspec": {
      "name": "python3",
      "display_name": "Python 3"
    },
    "language_info": {
      "name": "python"
    },
    "accelerator": "GPU"
  },
  "cells": [
    {
      "cell_type": "code",
      "source": [
        "!python3 -m pip install -U git+https://github.com/facebookresearch/audiocraft#egg=audiocraft\n",
        "# !python3 -m pip install -U audiocraft"
      ],
      "metadata": {
        "id": "ku0ui5lKwpF7"
      },
      "execution_count": null,
      "outputs": []
    },
    {
      "cell_type": "code",
      "source": [
        "from audiocraft.models import musicgen\n",
        "from audiocraft.utils.notebook import display_audio\n",
        "import torch"
      ],
      "metadata": {
        "id": "YVgeUMjoZaJH"
      },
      "execution_count": null,
      "outputs": []
    },
    {
      "cell_type": "code",
      "source": [
        "model = musicgen.MusicGen.get_pretrained('medium', device='cuda')\n",
        "model.set_generation_params(duration=8)"
      ],
      "metadata": {
        "id": "yc_FYhbWZufi"
      },
      "execution_count": null,
      "outputs": []
    },
    {
      "cell_type": "code",
      "source": [
        "res = model.generate([\n",
        "    'crazy EDM, heavy bang',\n",
        "    'classic reggae track with an electronic guitar solo',\n",
        "    'lofi slow bpm electro chill with organic samples',\n",
        "    'rock with saturated guitars, a heavy bass line and crazy drum break and fills.',\n",
        "    'earthy tones, environmentally conscious, ukulele-infused, harmonic, breezy, easygoing, organic instrumentation, gentle grooves',\n",
        "],\n",
        "    progress=True)\n",
        "display_audio(res, 32000)"
      ],
      "metadata": {
        "id": "32g-tH7IZz5N"
      },
      "execution_count": null,
      "outputs": []
    },
    {
      "cell_type": "markdown",
      "source": [
        "### Veja mais informacoes sobre como utilizar este modelo em https://github.com/facebookresearch/audiocraft\n",
        "\n",
        "## Demonstração Gradio do MusicGen\n",
        "Basta executar a célula seguinte, aguardar pelo aparecimento do link (aquele após \"Running on public URL:\") e clicar para brincar com a demonstração.\n",
        "\n",
        "AVISO: NÃO reinicie quando for solicitado (por exemplo, \"Você deve reiniciar o ambiente de execução para usar as versões recém-instaladas.\"), apenas ignore isso :)\n",
        "\n",
        "A primeira avaliação com um modelo será mais lenta devido ao download do modelo. O modelo de melodia deve levar 30 segundos para 15 segundos de áudio.\n",
        "\n"
      ],
      "metadata": {
        "id": "yP3FfELNw6_k"
      }
    },
    {
      "cell_type": "code",
      "source": [
        "# Adapted from https://github.com/camenduru/MusicGen-colab\n",
        "%cd /content\n",
        "!git clone https://github.com/facebookresearch/audiocraft\n",
        "%cd /content/audiocraft\n",
        "!pip install -r requirements.txt\n",
        "# Click on the gradio link that appear.\n",
        "!python app.py --share\n",
        "# See also https://colab.research.google.com/drive/1fxGqfg96RBUvGxZ1XXN07s3DthrKUl4-?usp=sharing\n",
        "# for a Colab demo using the underlying API instead."
      ],
      "metadata": {
        "id": "LMEhDDBWo-BS"
      },
      "execution_count": null,
      "outputs": []
    },
    {
      "cell_type": "code",
      "source": [],
      "metadata": {
        "id": "rojR90c5xFMY"
      },
      "execution_count": null,
      "outputs": []
    }
  ]
}